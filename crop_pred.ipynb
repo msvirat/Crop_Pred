{
 "cells": [
  {
   "cell_type": "code",
   "execution_count": 1,
   "id": "826d2f2b",
   "metadata": {},
   "outputs": [],
   "source": [
    "import pandas as pd\n",
    "import numpy as np\n",
    "import matplotlib.pyplot as plt\n",
    "import seaborn as sns\n",
    "from  sklearn.model_selection import train_test_split\n",
    "from sklearn.model_selection import RandomizedSearchCV\n",
    "from sklearn.preprocessing import LabelEncoder\n",
    "from sklearn.ensemble import RandomForestRegressor\n",
    "from sklearn.neighbors import KNeighborsRegressor\n",
    "from sklearn.preprocessing import MinMaxScaler\n",
    "from sklearn.metrics import mean_squared_error"
   ]
  },
  {
   "cell_type": "code",
   "execution_count": 2,
   "id": "493534eb",
   "metadata": {},
   "outputs": [
    {
     "data": {
      "text/html": [
       "<div>\n",
       "<style scoped>\n",
       "    .dataframe tbody tr th:only-of-type {\n",
       "        vertical-align: middle;\n",
       "    }\n",
       "\n",
       "    .dataframe tbody tr th {\n",
       "        vertical-align: top;\n",
       "    }\n",
       "\n",
       "    .dataframe thead th {\n",
       "        text-align: right;\n",
       "    }\n",
       "</style>\n",
       "<table border=\"1\" class=\"dataframe\">\n",
       "  <thead>\n",
       "    <tr style=\"text-align: right;\">\n",
       "      <th></th>\n",
       "      <th>State_Name</th>\n",
       "      <th>District_Name</th>\n",
       "      <th>Crop_Year</th>\n",
       "      <th>Season</th>\n",
       "      <th>Crop</th>\n",
       "      <th>Area</th>\n",
       "      <th>Production</th>\n",
       "    </tr>\n",
       "  </thead>\n",
       "  <tbody>\n",
       "    <tr>\n",
       "      <th>0</th>\n",
       "      <td>Andaman and Nicobar Islands</td>\n",
       "      <td>NICOBARS</td>\n",
       "      <td>2000</td>\n",
       "      <td>Kharif</td>\n",
       "      <td>Arecanut</td>\n",
       "      <td>1254.0</td>\n",
       "      <td>2000.0</td>\n",
       "    </tr>\n",
       "    <tr>\n",
       "      <th>1</th>\n",
       "      <td>Andaman and Nicobar Islands</td>\n",
       "      <td>NICOBARS</td>\n",
       "      <td>2000</td>\n",
       "      <td>Kharif</td>\n",
       "      <td>Other Kharif pulses</td>\n",
       "      <td>2.0</td>\n",
       "      <td>1.0</td>\n",
       "    </tr>\n",
       "    <tr>\n",
       "      <th>2</th>\n",
       "      <td>Andaman and Nicobar Islands</td>\n",
       "      <td>NICOBARS</td>\n",
       "      <td>2000</td>\n",
       "      <td>Kharif</td>\n",
       "      <td>Rice</td>\n",
       "      <td>102.0</td>\n",
       "      <td>321.0</td>\n",
       "    </tr>\n",
       "    <tr>\n",
       "      <th>3</th>\n",
       "      <td>Andaman and Nicobar Islands</td>\n",
       "      <td>NICOBARS</td>\n",
       "      <td>2000</td>\n",
       "      <td>Whole Year</td>\n",
       "      <td>Banana</td>\n",
       "      <td>176.0</td>\n",
       "      <td>641.0</td>\n",
       "    </tr>\n",
       "    <tr>\n",
       "      <th>4</th>\n",
       "      <td>Andaman and Nicobar Islands</td>\n",
       "      <td>NICOBARS</td>\n",
       "      <td>2000</td>\n",
       "      <td>Whole Year</td>\n",
       "      <td>Cashewnut</td>\n",
       "      <td>720.0</td>\n",
       "      <td>165.0</td>\n",
       "    </tr>\n",
       "  </tbody>\n",
       "</table>\n",
       "</div>"
      ],
      "text/plain": [
       "                    State_Name District_Name  Crop_Year       Season  \\\n",
       "0  Andaman and Nicobar Islands      NICOBARS       2000  Kharif        \n",
       "1  Andaman and Nicobar Islands      NICOBARS       2000  Kharif        \n",
       "2  Andaman and Nicobar Islands      NICOBARS       2000  Kharif        \n",
       "3  Andaman and Nicobar Islands      NICOBARS       2000  Whole Year    \n",
       "4  Andaman and Nicobar Islands      NICOBARS       2000  Whole Year    \n",
       "\n",
       "                  Crop    Area  Production  \n",
       "0             Arecanut  1254.0      2000.0  \n",
       "1  Other Kharif pulses     2.0         1.0  \n",
       "2                 Rice   102.0       321.0  \n",
       "3               Banana   176.0       641.0  \n",
       "4            Cashewnut   720.0       165.0  "
      ]
     },
     "execution_count": 2,
     "metadata": {},
     "output_type": "execute_result"
    }
   ],
   "source": [
    "df = pd.read_csv('D:\\Project\\crop_pred\\crop_production.csv')\n",
    "df.head()"
   ]
  },
  {
   "cell_type": "code",
   "execution_count": 4,
   "id": "632987be",
   "metadata": {},
   "outputs": [],
   "source": [
    "df.dropna(inplace=True)"
   ]
  },
  {
   "cell_type": "code",
   "execution_count": 5,
   "id": "9e444c74",
   "metadata": {},
   "outputs": [],
   "source": [
    "ls = LabelEncoder()\n",
    "df['State_Name'] = ls.fit_transform(df['State_Name'])\n",
    "df['District_Name'] = ls.fit_transform(df['District_Name'])\n",
    "df['Season'] = ls.fit_transform(df['Season'])\n",
    "df['Crop'] = ls.fit_transform(df['Crop'])"
   ]
  },
  {
   "cell_type": "code",
   "execution_count": 6,
   "id": "aa05b486",
   "metadata": {},
   "outputs": [],
   "source": [
    "df.drop('Crop_Year', inplace=True, axis =1)"
   ]
  },
  {
   "cell_type": "code",
   "execution_count": 7,
   "id": "f6a81ced",
   "metadata": {},
   "outputs": [],
   "source": [
    "df['Production'] = df['Production']/df['Area']"
   ]
  },
  {
   "cell_type": "code",
   "execution_count": 8,
   "id": "859a3853",
   "metadata": {},
   "outputs": [],
   "source": [
    "upper_lim = df.Production.quantile(0.75)\n",
    "lower_lim = df.Production.quantile(0.25)\n",
    "df = df.loc[(df['Production'] > lower_lim) & (df['Production'] < upper_lim)]"
   ]
  },
  {
   "cell_type": "code",
   "execution_count": 9,
   "id": "cda42b98",
   "metadata": {},
   "outputs": [],
   "source": [
    "mx = MinMaxScaler()\n",
    "df[['Area']] = mx.fit_transform(df[['Area']])"
   ]
  },
  {
   "cell_type": "code",
   "execution_count": 10,
   "id": "bb03d820",
   "metadata": {},
   "outputs": [],
   "source": [
    "X = df.drop('Production', axis=1)\n",
    "Y = df['Production']\n",
    "X_train, X_test, y_train, y_test = train_test_split(X, Y, test_size=0.30, random_state=5)"
   ]
  },
  {
   "cell_type": "code",
   "execution_count": 11,
   "id": "2dbd3fe5",
   "metadata": {},
   "outputs": [
    {
     "name": "stdout",
     "output_type": "stream",
     "text": [
      "Error for rf 0.08810018335408522\n"
     ]
    }
   ],
   "source": [
    "rf = RandomForestRegressor().fit(X_train, y_train)\n",
    "y_pred = rf.predict(X_test)\n",
    "score = mean_squared_error(y_test, y_pred)\n",
    "print('Error for rf '+str(score))"
   ]
  },
  {
   "cell_type": "code",
   "execution_count": 18,
   "id": "a02eb6f6",
   "metadata": {},
   "outputs": [
    {
     "name": "stdout",
     "output_type": "stream",
     "text": [
      "{'n_estimators': [10, 49, 88, 127, 166, 205, 244, 283, 322, 361, 400], 'max_features': ['auto', 'sqrt'], 'max_depth': [None], 'min_samples_split': [2, 5, 10], 'min_samples_leaf': [1, 2, 4], 'bootstrap': [True, False]}\n"
     ]
    }
   ],
   "source": [
    "# Number of trees in random forest\n",
    "n_estimators = [int(x) for x in np.linspace(start = 10, stop = 400, num = 11)]\n",
    "# Number of features to consider at every split\n",
    "max_features = ['auto', 'sqrt']\n",
    "# Maximum number of levels in tree\n",
    "max_depth = [None]\n",
    "#max_depth.append()\n",
    "# Minimum number of samples required to split a node\n",
    "min_samples_split = [2, 5, 10]\n",
    "# Minimum number of samples required at each leaf node\n",
    "min_samples_leaf = [1, 2, 4]\n",
    "# Method of selecting samples for training each tree\n",
    "bootstrap = [True, False]\n",
    "# Create the random grid\n",
    "random_grid = {'n_estimators': n_estimators,\n",
    "               'max_features': max_features,\n",
    "               'max_depth': max_depth,\n",
    "               'min_samples_split': min_samples_split,\n",
    "               'min_samples_leaf': min_samples_leaf,\n",
    "               'bootstrap': bootstrap}\n",
    "print(random_grid)"
   ]
  },
  {
   "cell_type": "code",
   "execution_count": 20,
   "id": "3807d301",
   "metadata": {},
   "outputs": [
    {
     "name": "stdout",
     "output_type": "stream",
     "text": [
      "Fitting 3 folds for each of 10 candidates, totalling 30 fits\n"
     ]
    },
    {
     "data": {
      "text/plain": [
       "RandomizedSearchCV(cv=3, estimator=RandomForestRegressor(), n_jobs=-1,\n",
       "                   param_distributions={'bootstrap': [True, False],\n",
       "                                        'max_depth': [None],\n",
       "                                        'max_features': ['auto', 'sqrt'],\n",
       "                                        'min_samples_leaf': [1, 2, 4],\n",
       "                                        'min_samples_split': [2, 5, 10],\n",
       "                                        'n_estimators': [10, 49, 88, 127, 166,\n",
       "                                                         205, 244, 283, 322,\n",
       "                                                         361, 400]},\n",
       "                   random_state=42, verbose=2)"
      ]
     },
     "execution_count": 20,
     "metadata": {},
     "output_type": "execute_result"
    }
   ],
   "source": [
    "# Use the random grid to search for best hyperparameters\n",
    "# First create the base model to tune\n",
    "rf = RandomForestRegressor()\n",
    "# Random search of parameters, using 3 fold cross validation, \n",
    "# search across 100 different combinations, and use all available cores\n",
    "rf_random = RandomizedSearchCV(estimator = rf, param_distributions = random_grid, n_iter = 10, cv = 3, verbose=2, random_state=42, n_jobs = -1)\n",
    "# Fit the random search model\n",
    "rf_random.fit(X_train, y_train)"
   ]
  },
  {
   "cell_type": "code",
   "execution_count": 21,
   "id": "a0435462",
   "metadata": {},
   "outputs": [
    {
     "data": {
      "text/plain": [
       "{'n_estimators': 361,\n",
       " 'min_samples_split': 2,\n",
       " 'min_samples_leaf': 2,\n",
       " 'max_features': 'auto',\n",
       " 'max_depth': None,\n",
       " 'bootstrap': True}"
      ]
     },
     "execution_count": 21,
     "metadata": {},
     "output_type": "execute_result"
    }
   ],
   "source": [
    "rf_random.best_params_"
   ]
  },
  {
   "cell_type": "code",
   "execution_count": 24,
   "id": "e89c5af0",
   "metadata": {},
   "outputs": [
    {
     "name": "stdout",
     "output_type": "stream",
     "text": [
      "Error for rf 0.08367494164706973\n"
     ]
    }
   ],
   "source": [
    "y_pred1 = rf_random.predict(X_test)\n",
    "score1 = mean_squared_error(y_test, y_pred1)\n",
    "print('Error for rf '+str(score1))"
   ]
  },
  {
   "cell_type": "markdown",
   "id": "f66570e7",
   "metadata": {},
   "source": [
    "# KNeighborsRegressor"
   ]
  },
  {
   "cell_type": "code",
   "execution_count": 26,
   "id": "595a4eac",
   "metadata": {
    "scrolled": true
   },
   "outputs": [
    {
     "name": "stdout",
     "output_type": "stream",
     "text": [
      "Error for rf 0.10283755982760844\n"
     ]
    }
   ],
   "source": [
    "knn = KNeighborsRegressor()\n",
    "knn.fit(X_train, y_train)\n",
    "y_pred2 = knn.predict(X_test)\n",
    "score2 = mean_squared_error(y_test, y_pred2)\n",
    "print('Error for rf '+str(score2))"
   ]
  },
  {
   "cell_type": "code",
   "execution_count": 29,
   "id": "728adbbc",
   "metadata": {},
   "outputs": [
    {
     "data": {
      "text/plain": [
       "0.10090178709720582"
      ]
     },
     "execution_count": 29,
     "metadata": {},
     "output_type": "execute_result"
    }
   ],
   "source": [
    "error = []\n",
    "for i in range(1, 50):\n",
    "    knn = KNeighborsRegressor(n_neighbors = i)\n",
    "    knn.fit(X_train, y_train)\n",
    "    y_pred3 = knn.predict(X_test)\n",
    "    score3 = mean_squared_error(y_test, y_pred3)\n",
    "    error.append(score3)\n",
    "    "
   ]
  },
  {
   "cell_type": "code",
   "execution_count": 36,
   "id": "8264c79c",
   "metadata": {},
   "outputs": [
    {
     "name": "stdout",
     "output_type": "stream",
     "text": [
      "Best n_neighbors value is 3\n"
     ]
    }
   ],
   "source": [
    "print(\"Best n_neighbors value is\", error.index(min(error)))"
   ]
  },
  {
   "cell_type": "code",
   "execution_count": 33,
   "id": "5e1a03a5",
   "metadata": {},
   "outputs": [
    {
     "data": {
      "text/plain": [
       "3"
      ]
     },
     "execution_count": 33,
     "metadata": {},
     "output_type": "execute_result"
    }
   ],
   "source": []
  }
 ],
 "metadata": {
  "kernelspec": {
   "display_name": "Python 3 (ipykernel)",
   "language": "python",
   "name": "python3"
  },
  "language_info": {
   "codemirror_mode": {
    "name": "ipython",
    "version": 3
   },
   "file_extension": ".py",
   "mimetype": "text/x-python",
   "name": "python",
   "nbconvert_exporter": "python",
   "pygments_lexer": "ipython3",
   "version": "3.8.8"
  }
 },
 "nbformat": 4,
 "nbformat_minor": 5
}
